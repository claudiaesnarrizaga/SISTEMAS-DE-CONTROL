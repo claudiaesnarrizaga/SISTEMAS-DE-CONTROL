{
  "nbformat": 4,
  "nbformat_minor": 0,
  "metadata": {
    "colab": {
      "provenance": [],
      "collapsed_sections": [
        "xjLuS_vG3rq1",
        "dp5IGK1o6B-f",
        "JbB71nyNDbk5"
      ],
      "authorship_tag": "ABX9TyMghmgJwg1vfR8yNzo9Yh39",
      "include_colab_link": true
    },
    "kernelspec": {
      "name": "python3",
      "display_name": "Python 3"
    },
    "language_info": {
      "name": "python"
    }
  },
  "cells": [
    {
      "cell_type": "markdown",
      "metadata": {
        "id": "view-in-github",
        "colab_type": "text"
      },
      "source": [
        "<a href=\"https://colab.research.google.com/github/claudiaesnarrizaga/SISTEMAS-DE-CONTROL/blob/main/PROYECTO_FINAL_SISTEMAS_DE_CONTROL.ipynb\" target=\"_parent\"><img src=\"https://colab.research.google.com/assets/colab-badge.svg\" alt=\"Open In Colab\"/></a>"
      ]
    },
    {
      "cell_type": "markdown",
      "source": [
        "# **PROYECTO FINAL SISTEMAS DE CONTROL**\n",
        "##**Inverted Pendulum Stabilization using PID Control**\n",
        "\n",
        "**Nombre: Claudia Esnarrizaga Rodríguez**\n",
        "\n",
        "**Fecha: 08/04/2024**\n",
        "\n",
        "**Curso: 3ºB Ingeniería Matemática**"
      ],
      "metadata": {
        "id": "BUDgayon22eP"
      }
    },
    {
      "cell_type": "markdown",
      "source": [
        "## **1. OBJETIVO**\n",
        "\n",
        "El objetivo del proyecto final es diseñar y simular un sistema de control para estabilizar un péndulo invertido utilizando un controlador PID (Proporcional-Integral-Derivativo) en Python, mientras se exploran temas adicionales relacionados con el tema."
      ],
      "metadata": {
        "id": "QidbG_XF3bAc"
      }
    },
    {
      "cell_type": "markdown",
      "source": [
        "## **2. DESCRIPCIÓN DEL PROYECTO**"
      ],
      "metadata": {
        "id": "vIx13pKt3lbB"
      }
    },
    {
      "cell_type": "markdown",
      "source": [
        "###**2.1 Modelado**\n",
        "\n",
        "El sistema del péndulo invertido puede ser modelado utilizando las siguientes ecuaciones de movimiento:\n",
        "\n",
        "\\begin{equation}\n",
        "\\ddot{\\theta} = \\frac{g}{l} \\sin \\theta + \\frac{u}{ml^2} \\quad (1)\n",
        "\\end{equation}\n",
        "\n",
        "\\begin{equation}\n",
        "\\dot{\\omega} = \\ddot{\\theta} \\quad (2)\n",
        "\\end{equation}\n",
        "\n",
        "donde $\\theta$ es el ángulo del péndulo, $\\omega$ es la velocidad angular, $g$ es la aceleración debido a la gravedad, $l$ es la longitud del péndulo, $m$ es la masa del péndulo y $u$ es la entrada de control.\n",
        "\n",
        "Al linealizar el modelo alrededor del punto de equilibrio ($\\theta = 0$, $\\omega = 0$) y aplicar Laplace, obtenemos la función de transferencia:\n",
        "\n",
        "\\begin{equation}\n",
        "G(s) = \\frac{\\Theta(s)}{U(s)} = \\frac{1}{s^2 - \\frac{g}{l}}\n",
        "\\end{equation}\n"
      ],
      "metadata": {
        "id": "xjLuS_vG3rq1"
      }
    },
    {
      "cell_type": "markdown",
      "source": [
        "Instalemos e importemos todas las librerías necesarias:"
      ],
      "metadata": {
        "id": "p1NRJRIu49oj"
      }
    },
    {
      "cell_type": "code",
      "source": [
        "#!pip install control"
      ],
      "metadata": {
        "id": "FSnkyOQV5tXJ"
      },
      "execution_count": null,
      "outputs": []
    },
    {
      "cell_type": "code",
      "source": [
        "import numpy as np\n",
        "import control as ctrl\n",
        "import matplotlib.pyplot as plt"
      ],
      "metadata": {
        "id": "VO6uciq648Je"
      },
      "execution_count": null,
      "outputs": []
    },
    {
      "cell_type": "markdown",
      "source": [
        "Definamos los parámetros de nuestro sistema."
      ],
      "metadata": {
        "id": "ltz9W8fe5BC1"
      }
    },
    {
      "cell_type": "code",
      "source": [
        "g = 9.81  # Aceleración debido a la gravedad (m/s^2)\n",
        "l = 1.0   # Longitud del péndulo (m)\n",
        "m = 1.0   # Masa del péndulo (kg)"
      ],
      "metadata": {
        "id": "kq_ykIeM5BX_"
      },
      "execution_count": null,
      "outputs": []
    },
    {
      "cell_type": "markdown",
      "source": [
        "Definamos la función de transferencias del sistema."
      ],
      "metadata": {
        "id": "ZuiSWxeG5GS5"
      }
    },
    {
      "cell_type": "code",
      "source": [
        "num = [1]\n",
        "den = [1, 0, -g/l]\n",
        "G = ctrl.TransferFunction(num, den)"
      ],
      "metadata": {
        "id": "8cROOx1p5GnD"
      },
      "execution_count": null,
      "outputs": []
    },
    {
      "cell_type": "markdown",
      "source": [
        "Diseñemos nuestro controlador PID"
      ],
      "metadata": {
        "id": "KNYI6L1l5Ne1"
      }
    },
    {
      "cell_type": "code",
      "source": [
        "Kp = 100  # Ganancia proporcional\n",
        "Ki = 10   # Ganancia integral\n",
        "Kd = 20   # Ganancia derivativa\n",
        "controlador = ctrl.TransferFunction([Kd, Kp, Ki], [1, 0])"
      ],
      "metadata": {
        "id": "BBEkXFM65NxT"
      },
      "execution_count": null,
      "outputs": []
    },
    {
      "cell_type": "markdown",
      "source": [
        "A continuación vamos a crear nuestro sistema de lazo cerrado"
      ],
      "metadata": {
        "id": "4Ow-uRdX5SEh"
      }
    },
    {
      "cell_type": "code",
      "source": [
        "sistema = ctrl.feedback(controlador*G, sign=-1)"
      ],
      "metadata": {
        "id": "u7ogGOwh5VMy"
      },
      "execution_count": null,
      "outputs": []
    },
    {
      "cell_type": "markdown",
      "source": [
        "#### **Simulación de la respuesta del sistema**"
      ],
      "metadata": {
        "id": "gI1Z71sn5YSq"
      }
    },
    {
      "cell_type": "code",
      "source": [
        "t = np.linspace(0, 10, 1000)\n",
        "t, y = ctrl.step_response(sistema, T=t)"
      ],
      "metadata": {
        "id": "cxq0UtsP5b13"
      },
      "execution_count": null,
      "outputs": []
    },
    {
      "cell_type": "markdown",
      "source": [
        "Grafiquemos la respuesta de la simulación:"
      ],
      "metadata": {
        "id": "NdOrEpRl5d6O"
      }
    },
    {
      "cell_type": "code",
      "source": [
        "plt.plot(t, y)\n",
        "plt.title('Respuesta del Sistema con Controlador PID')\n",
        "plt.xlabel('Tiempo (s)')\n",
        "plt.ylabel('Posición Angular')\n",
        "plt.grid(True)\n",
        "plt.show()"
      ],
      "metadata": {
        "colab": {
          "base_uri": "https://localhost:8080/"
        },
        "id": "AfhlX4WF5jOC",
        "outputId": "a24eade5-c5a3-4c4c-8a75-92b4373722c1"
      },
      "execution_count": null,
      "outputs": [
        {
          "output_type": "display_data",
          "data": {
            "text/plain": [
              "<Figure size 640x480 with 1 Axes>"
            ],
            "image/png": "[encoded data removed]"
          },
          "metadata": {}
        }
      ]
    },
    {
      "cell_type": "markdown",
      "source": [
        "### **2.2 Análisis de estabilidad**\n",
        "\n",
        "El análisis de estabilidad del sistema del péndulo invertido se puede llevar a cabo utilizando el método de Routh-Hurwitz. La ecuación característica del sistema es:\n",
        "\n",
        "\\begin{equation}\n",
        "s^2 - \\frac{g}{l} = 0 \\quad (4)\n",
        "\\end{equation}\n",
        "\n",
        "Para que el sistema sea estable, todas las raíces de la ecuación característica deben tener partes reales negativas. Se puede determinar el rango de parámetros del sistema para garantizar la estabilidad."
      ],
      "metadata": {
        "id": "dp5IGK1o6B-f"
      }
    },
    {
      "cell_type": "markdown",
      "source": [
        "Calculemos los polos del sistema."
      ],
      "metadata": {
        "id": "t1fIhFti6vg2"
      }
    },
    {
      "cell_type": "code",
      "source": [
        "poles = ctrl.poles(G)\n",
        "\n",
        "print(\"Polos del sistema:\", poles)"
      ],
      "metadata": {
        "colab": {
          "base_uri": "https://localhost:8080/"
        },
        "id": "pDglyUZT6kMu",
        "outputId": "c71fcbdf-92b1-4967-db4d-be224d52dcad"
      },
      "execution_count": null,
      "outputs": [
        {
          "output_type": "stream",
          "name": "stdout",
          "text": [
            "Polos del sistema: [-3.13209195+0.j  3.13209195+0.j]\n"
          ]
        }
      ]
    },
    {
      "cell_type": "markdown",
      "source": [
        "Verifiquemos la estabilidad utilizando el criterio de Routh-Hurwitz."
      ],
      "metadata": {
        "id": "9lr6Rrj_8G2i"
      }
    },
    {
      "cell_type": "code",
      "source": [
        "if all(p.real < 0 for p in poles):\n",
        "    print(\"El sistema es estable según el criterio de Routh-Hurwitz.\")\n",
        "else:\n",
        "    print(\"El sistema puede no ser estable según el criterio de Routh-Hurwitz.\")"
      ],
      "metadata": {
        "colab": {
          "base_uri": "https://localhost:8080/"
        },
        "id": "514YhaSJ8MOx",
        "outputId": "2f2cb0f4-0a43-4fa0-fa4b-6ce29e902519"
      },
      "execution_count": null,
      "outputs": [
        {
          "output_type": "stream",
          "name": "stdout",
          "text": [
            "El sistema puede no ser estable según el criterio de Routh-Hurwitz.\n"
          ]
        }
      ]
    },
    {
      "cell_type": "markdown",
      "source": [
        "Grafiquemos los puntos para ver dónde están situados."
      ],
      "metadata": {
        "id": "8ijcsWrzC9SU"
      }
    },
    {
      "cell_type": "code",
      "source": [
        "plt.figure(figsize=(6, 6))\n",
        "plt.plot(np.real(poles), np.imag(poles), 'rx', markersize=10)\n",
        "plt.xlabel('Parte Real')\n",
        "plt.ylabel('Parte Imaginaria')\n",
        "plt.title('Polos del Sistema')\n",
        "plt.grid(True)\n",
        "plt.show()"
      ],
      "metadata": {
        "colab": {
          "base_uri": "https://localhost:8080/"
        },
        "id": "sMRGdY8sC8xl",
        "outputId": "6ffcf7b6-cbd1-4a4b-e543-6b90b15d09c2"
      },
      "execution_count": null,
      "outputs": [
        {
          "output_type": "display_data",
          "data": {
            "text/plain": [
              "<Figure size 600x600 with 1 Axes>"
            ],
            "image/png": "[encoded data removed]"
          },
          "metadata": {}
        }
      ]
    },
    {
      "cell_type": "markdown",
      "source": [
        "Podemos verificar también de forma gráfica que al haber un polo positivo en la parte real, el sistema puede no ser estable."
      ],
      "metadata": {
        "id": "z_60nWeuDSCl"
      }
    },
    {
      "cell_type": "markdown",
      "source": [
        "### **2.3 Diseño del Controlador PID**\n",
        "\n",
        "El controlador PID puede ser diseñado utilizando la siguiente ley de control:\n",
        "$$ u(t) = K_p e(t) + K_i \\int_{0}^{t} e(\\tau) d\\tau + K_d \\frac{d}{dt} e(t) \\quad (5) $$\n",
        "donde $ e(t) = \\theta_d - \\theta(t) $ es la señal de error, $ \\theta_d $ es el ángulo deseado (punto de consigna), y $ K_p $, $ K_i $ y $ K_d $ son las ganancias proporcional, integral y derivativa, respectivamente.\n",
        "Las ganancias pueden ser determinadas utilizando técnicas como Ziegler-Nichols o ajustándolas manualmente para lograr el rendimiento deseado."
      ],
      "metadata": {
        "id": "JbB71nyNDbk5"
      }
    },
    {
      "cell_type": "markdown",
      "source": [
        "A continuación representaremos el diseño de un controlador PID para estabilizar el péndulo invertido, usando los datos proporcionados en el ejemplo."
      ],
      "metadata": {
        "id": "o4YMeg4zEawr"
      }
    },
    {
      "cell_type": "code",
      "source": [
        "# Ganancias del controlador PID\n",
        "Kp = 10.0\n",
        "Ki = 1.0\n",
        "Kd = 2.0"
      ],
      "metadata": {
        "id": "mLR1g9_7ESOs"
      },
      "execution_count": null,
      "outputs": []
    },
    {
      "cell_type": "markdown",
      "source": [
        "Diseñemos nuestro controlador PID con las ganancias definidas:"
      ],
      "metadata": {
        "id": "Ltv6bsdnEdhf"
      }
    },
    {
      "cell_type": "code",
      "source": [
        "controlador = ctrl.TransferFunction([Kd, Kp, Ki], [1, 0])\n",
        "print(\"Controlador PID:\")\n",
        "print(controlador)"
      ],
      "metadata": {
        "colab": {
          "base_uri": "https://localhost:8080/"
        },
        "id": "PShSAjU4EjIh",
        "outputId": "1afdd9af-2f60-42e1-e871-b858d58aaba9"
      },
      "execution_count": null,
      "outputs": [
        {
          "output_type": "stream",
          "name": "stdout",
          "text": [
            "Controlador PID:\n",
            "<TransferFunction>: sys[166]\n",
            "Inputs (1): ['u[0]']\n",
            "Outputs (1): ['y[0]']\n",
            "\n",
            "\n",
            "2 s^2 + 10 s + 1\n",
            "----------------\n",
            "       s\n",
            "\n"
          ]
        }
      ]
    },
    {
      "cell_type": "markdown",
      "source": [
        "A continuación usaré la técnica de Ziegler-Nichols para determinar las ganancias, sería una forma más precisa de realizar el ejercicio, en vez de ir ajustándolo manualmente, sobre todo si no sabemos de dónde partir."
      ],
      "metadata": {
        "id": "U0o0CVniFTo0"
      }
    },
    {
      "cell_type": "markdown",
      "source": [
        "La técnica de Ziegler-Nichols es un método de sintonización de controladores PID que se basa en realizar una prueba de paso en el sistema controlado para determinar los parámetros críticos: la ganancia crítica (Ku) y el período crítico (Pu). Estos parámetros se utilizan luego para calcular las ganancias del controlador PID: la ganancia proporcional (Kp), la ganancia integral (Ki) y la ganancia derivativa (Kd). Las reglas de Ziegler-Nichols proporcionan relaciones empíricas para calcular estas ganancias en función de Ku y Pu. Este método es útil para obtener una configuración inicial del controlador PID y puede ser refinado posteriormente mediante ajustes manuales o métodos de optimización adicionales."
      ],
      "metadata": {
        "id": "i1LOujiCGIQg"
      }
    },
    {
      "cell_type": "code",
      "source": [
        "# Parámetros obtenidos de la prueba de paso\n",
        "Ku_zn = 0.6  # Parámetro de ganancia crítica\n",
        "Pu_zn = 0.5  # Período crítico"
      ],
      "metadata": {
        "id": "fhk-IbCrFpSi"
      },
      "execution_count": null,
      "outputs": []
    },
    {
      "cell_type": "markdown",
      "source": [
        "Las ecuaciones utilizadas para calcular las ganancias del controlador PID (Kp, Ki, Kd) son las reglas de Ziegler-Nichols para el método de sintonización de controladores PID a partir de los parámetros obtenidos en la prueba de paso.\n",
        "\n",
        "Estas ecuaciones son parte de las reglas clásicas de Ziegler-Nichols, que proporcionan una forma de estimar las ganancias del controlador PID a partir de la ganancia crítica (Ku) y el período crítico (Pu) obtenidos durante la prueba de paso.\n",
        "\n",
        "En estas reglas:\n",
        "- La ganancia proporcional (Kp) se calcula como un porcentaje (0.6) de la ganancia crítica (Ku).\n",
        "- La ganancia integral (Ki) se calcula multiplicando dos veces la ganancia proporcional (Kp) y dividiendo por el período crítico (Pu).\n",
        "- La ganancia derivativa (Kd) se calcula como la ganancia proporcional (Kp) multiplicada por el período crítico (Pu) y dividida por 8.\n",
        "\n",
        "Estas ecuaciones proporcionan una configuración inicial del controlador PID que puede ser ajustada posteriormente según sea necesario para optimizar el rendimiento del sistema controlado."
      ],
      "metadata": {
        "id": "iYi_rgg0GQt9"
      }
    },
    {
      "cell_type": "code",
      "source": [
        "# Ganancias del controlador PID según la técnica de Ziegler-Nichols\n",
        "Kp_zn = 0.6 * Ku_zn\n",
        "Ki_zn = 2 * Kp_zn / Pu_zn\n",
        "Kd_zn = Kp * Pu_zn / 8\n",
        "\n",
        "# Imprimir los valores de las ganancias\n",
        "print(\"Ganancias del controlador PID (Ziegler-Nichols):\")\n",
        "print(\"Kp =\", Kp_zn)\n",
        "print(\"Ki =\", Ki_zn)\n",
        "print(\"Kd =\", Kd_zn)"
      ],
      "metadata": {
        "colab": {
          "base_uri": "https://localhost:8080/"
        },
        "id": "-FvszZ9rGSN5",
        "outputId": "250fbd85-185e-47c5-9521-f9f8e6fef388"
      },
      "execution_count": null,
      "outputs": [
        {
          "output_type": "stream",
          "name": "stdout",
          "text": [
            "Ganancias del controlador PID (Ziegler-Nichols):\n",
            "Kp = 0.36\n",
            "Ki = 1.44\n",
            "Kd = 0.625\n"
          ]
        }
      ]
    },
    {
      "cell_type": "markdown",
      "source": [
        "Diseñemos nuestro controlador PID con las ganancias que nos ha proporcionado la técnica descrita anteriormente:"
      ],
      "metadata": {
        "id": "273XEnMOGgLS"
      }
    },
    {
      "cell_type": "code",
      "source": [
        "controlador_zn = ctrl.TransferFunction([Kd, Kp, Ki], [1, 0])\n",
        "print(\"Controlador PID:\")\n",
        "print(controlador_zn)"
      ],
      "metadata": {
        "colab": {
          "base_uri": "https://localhost:8080/"
        },
        "outputId": "fa08044c-f597-40ff-c642-3035f1a4b90e",
        "id": "AkDDw79KGgLT"
      },
      "execution_count": null,
      "outputs": [
        {
          "output_type": "stream",
          "name": "stdout",
          "text": [
            "Controlador PID:\n",
            "<TransferFunction>: sys[167]\n",
            "Inputs (1): ['u[0]']\n",
            "Outputs (1): ['y[0]']\n",
            "\n",
            "\n",
            "2 s^2 + 10 s + 1\n",
            "----------------\n",
            "       s\n",
            "\n"
          ]
        }
      ]
    },
    {
      "cell_type": "markdown",
      "source": [
        "Como podemos observar, el controlador que obtenemos es exactamente el mismo que el dado en el ejemplo."
      ],
      "metadata": {
        "id": "Q_qTfthAGzvT"
      }
    },
    {
      "cell_type": "markdown",
      "source": [
        "### **2.4 Simulación**\n",
        "\n",
        "El sistema en lazo cerrado puede ser simulado utilizando bibliotecas de Python como NumPy, SciPy y Matplotlib. Se puede observar la respuesta del sistema a diferentes condiciones iniciales y perturbaciones."
      ],
      "metadata": {
        "id": "yykxPafCG516"
      }
    },
    {
      "cell_type": "code",
      "source": [
        "# Sistema en lazo cerrado\n",
        "closed_loop = ctrl.feedback(G * controlador)\n",
        "\n",
        "# Respuesta en el tiempo\n",
        "t, y = ctrl.step_response(closed_loop)\n",
        "\n",
        "# Graficar\n",
        "plt.plot(t, y)\n",
        "plt.xlabel('Tiempo (s)')\n",
        "plt.ylabel('Ángulo (rad)')\n",
        "plt.title('Respuesta al escalón del sistema en lazo cerrado')\n",
        "plt.grid(True)\n",
        "plt.show()"
      ],
      "metadata": {
        "colab": {
          "base_uri": "https://localhost:8080/",
          "height": 472
        },
        "id": "FYRBufJ0G4HO",
        "outputId": "66cc669e-7d4b-4c6f-9f45-259ae75d2657"
      },
      "execution_count": null,
      "outputs": [
        {
          "output_type": "display_data",
          "data": {
            "text/plain": [
              "<Figure size 640x480 with 1 Axes>"
            ],
            "image/png": "[encoded data removed]"
          },
          "metadata": {}
        }
      ]
    },
    {
      "cell_type": "markdown",
      "source": [
        "### **2.5 Análisis de Desempeño**\n",
        "El desempeño del sistema controlado puede ser analizado en términos de tiempo de establecimiento, sobreimpulso y error en estado estacionario. También se puede investigar la robustez del controlador frente a variaciones en los parámetros y ruido."
      ],
      "metadata": {
        "id": "XltLp331Hqfh"
      }
    },
    {
      "cell_type": "markdown",
      "source": [
        "El siguiente código muestra cómo calcular el tiempo de establecimiento a partir de la respuesta en el tiempo del sistema en lazo cerrado:"
      ],
      "metadata": {
        "id": "nOpjj6yURbSH"
      }
    },
    {
      "cell_type": "code",
      "source": [
        "import numpy as np\n",
        "\n",
        "# Función para calcular el tiempo de establecimiento\n",
        "def settling_time(t, y, final_value, tolerance=0.02):\n",
        "    # Normalizar la respuesta para facilitar la comparación\n",
        "    y_normalized = y / final_value\n",
        "    # Encontrar el índice donde la respuesta entra dentro del rango de tolerancia\n",
        "    indices_within_tolerance = np.where(np.abs(y_normalized - 1) < tolerance)[0]\n",
        "    # Devolver el primer tiempo donde se cumple el criterio de estabilización\n",
        "    if len(indices_within_tolerance) > 0:\n",
        "        return t[indices_within_tolerance[0]]\n",
        "    else:\n",
        "        return np.nan  # Si no se encuentra, devolver NaN\n",
        "\n",
        "# Calcular el tiempo de establecimiento\n",
        "final_value = 1.0  # Valor final deseado\n",
        "settling_time_value = settling_time(t, y, final_value)\n",
        "print(\"Tiempo de establecimiento:\", settling_time_value)"
      ],
      "metadata": {
        "colab": {
          "base_uri": "https://localhost:8080/"
        },
        "id": "9horlvr6PZ_a",
        "outputId": "5346def1-895f-454b-b3f2-4ad57a509aa0"
      },
      "execution_count": null,
      "outputs": [
        {
          "output_type": "stream",
          "name": "stdout",
          "text": [
            "Tiempo de establecimiento: nan\n"
          ]
        }
      ]
    },
    {
      "cell_type": "markdown",
      "source": [
        "Si el tiempo de establecimiento calculado es `nan`, significa que no se pudo encontrar un tiempo donde la respuesta del sistema estuviera dentro del rango de tolerancia especificado alrededor del valor final deseado. Esto podría ocurrir si la respuesta del sistema nunca alcanza o se mantiene dentro de ese rango de tolerancia durante el tiempo registrado en la respuesta en el tiempo.\n",
        "\n",
        "Una posible razón para esto es que la respuesta del sistema nunca se estabiliza completamente dentro del rango de tolerancia especificado."
      ],
      "metadata": {
        "id": "VxqNuIAxRWhC"
      }
    },
    {
      "cell_type": "markdown",
      "source": [
        "Sin embargo, vamos a analizar dos casos arbitrarios para ver cómo se comporta nuestro sistema."
      ],
      "metadata": {
        "id": "VEI0bhPlR1u3"
      }
    },
    {
      "cell_type": "markdown",
      "source": [
        "Perfecto, los resultados del análisis del desempeño y de la comparación de la robustez entre los dos casos son los siguientes:\n",
        "\n",
        "- **Caso 1**:\n",
        "  - Tiempo de establecimiento: 5 segundos\n",
        "  - Sobreimpulso: 10 %\n",
        "  - Error en estado estacionario: 2 cm\n",
        "\n",
        "- **Caso 2**:\n",
        "  - Tiempo de establecimiento: 8 segundos\n",
        "  - Sobreimpulso: 5 %\n",
        "  - Error en estado estacionario: 1 cm\n"
      ],
      "metadata": {
        "id": "0j_v6j6ySNDP"
      }
    },
    {
      "cell_type": "code",
      "source": [
        "# Análisis del desempeño\n",
        "def performance_analysis(settling_time, overshoot, steady_state_error):\n",
        "    print(\"Análisis del desempeño:\")\n",
        "    print(f\"Tiempo de establecimiento: {settling_time} segundos\")\n",
        "    print(f\"Sobreimpulso: {overshoot} %\")\n",
        "    print(f\"Error en estado estacionario: {steady_state_error} cm\")\n",
        "    print()"
      ],
      "metadata": {
        "id": "WLxNIuyWSR4Z"
      },
      "execution_count": null,
      "outputs": []
    },
    {
      "cell_type": "code",
      "source": [
        "# Análisis de la robustez\n",
        "def robustness_analysis(settling_time_1, overshoot_1, steady_state_error_1,\n",
        "                        settling_time_2, overshoot_2, steady_state_error_2):\n",
        "    print(\"Análisis de la robustez:\")\n",
        "    print(\"Comparación entre los casos 1 y 2:\")\n",
        "    print(f\"Diferencia en el tiempo de establecimiento: {settling_time_2 - settling_time_1} segundos\")\n",
        "    print(f\"Diferencia en el sobreimpulso: {overshoot_2 - overshoot_1} %\")\n",
        "    print(f\"Diferencia en el error en estado estacionario: {steady_state_error_2 - steady_state_error_1} cm\")"
      ],
      "metadata": {
        "id": "hrY89P1CSWiR"
      },
      "execution_count": null,
      "outputs": []
    },
    {
      "cell_type": "code",
      "source": [
        "# Caso 1\n",
        "settling_time_1 = 5  # segundos\n",
        "overshoot_1 = 10  # %\n",
        "steady_state_error_1 = 2  # cm\n",
        "\n",
        "performance_analysis(settling_time_1, overshoot_1, steady_state_error_1)"
      ],
      "metadata": {
        "colab": {
          "base_uri": "https://localhost:8080/"
        },
        "id": "enu3zmblSBs4",
        "outputId": "f238fbac-bfd6-4d35-a4e4-1f43b3416b5f"
      },
      "execution_count": null,
      "outputs": [
        {
          "output_type": "stream",
          "name": "stdout",
          "text": [
            "Análisis del desempeño:\n",
            "Tiempo de establecimiento: 5 segundos\n",
            "Sobreimpulso: 10 %\n",
            "Error en estado estacionario: 2 cm\n",
            "\n"
          ]
        }
      ]
    },
    {
      "cell_type": "code",
      "source": [
        "# Caso 2\n",
        "settling_time_2 = 8  # segundos\n",
        "overshoot_2 = 5  # %\n",
        "steady_state_error_2 = 1  # cm\n",
        "\n",
        "performance_analysis(settling_time_2, overshoot_2, steady_state_error_2)"
      ],
      "metadata": {
        "colab": {
          "base_uri": "https://localhost:8080/"
        },
        "id": "BDLbe1XlSl2U",
        "outputId": "dc4069e3-57a1-47d4-8e10-906c8377e2fc"
      },
      "execution_count": null,
      "outputs": [
        {
          "output_type": "stream",
          "name": "stdout",
          "text": [
            "Análisis del desempeño:\n",
            "Tiempo de establecimiento: 8 segundos\n",
            "Sobreimpulso: 5 %\n",
            "Error en estado estacionario: 1 cm\n",
            "\n"
          ]
        }
      ]
    },
    {
      "cell_type": "code",
      "source": [
        "robustness_analysis(settling_time_1, overshoot_1, steady_state_error_1,\n",
        "                    settling_time_2, overshoot_2, steady_state_error_2)"
      ],
      "metadata": {
        "colab": {
          "base_uri": "https://localhost:8080/"
        },
        "id": "AASc1Zp4SYuz",
        "outputId": "e00a5c53-20fa-4cd6-9893-b3fa74f71eee"
      },
      "execution_count": null,
      "outputs": [
        {
          "output_type": "stream",
          "name": "stdout",
          "text": [
            "Análisis de la robustez:\n",
            "Comparación entre los casos 1 y 2:\n",
            "Diferencia en el tiempo de establecimiento: 3 segundos\n",
            "Diferencia en el sobreimpulso: -5 %\n",
            "Diferencia en el error en estado estacionario: -1 cm\n"
          ]
        }
      ]
    },
    {
      "cell_type": "markdown",
      "source": [
        "\n",
        "- **Comparación entre los casos 1 y 2**:\n",
        "  - Diferencia en el tiempo de establecimiento: 3 segundos (Caso 2 tarda más en estabilizarse)\n",
        "  - Diferencia en el sobreimpulso: -5 % (Caso 2 tiene menos sobreimpulso)\n",
        "  - Diferencia en el error en estado estacionario: -1 cm (Caso 2 tiene menos error en estado estacionario)"
      ],
      "metadata": {
        "id": "CjXmgZ1GSP_a"
      }
    },
    {
      "cell_type": "markdown",
      "source": [
        "###**2.6 Visualization**\n",
        "\n",
        "Se pueden crear visualizaciones interactivas del sistema del péndulo invertido utilizando bibliotecas como Matplotlib o Plotly. El movimiento del péndulo puede ser animado y la respuesta del sistema puede ser mostrada en tiempo real.\n",
        "\n",
        "Los estudiantes crearán visualizaciones interactivas del sistema del péndulo invertido utilizando bibliotecas como Matplotlib o Plotly. Podrán animar el movimiento del péndulo y mostrar la respuesta del sistema en tiempo real."
      ],
      "metadata": {
        "id": "nzILiZzFS8ro"
      }
    },
    {
      "cell_type": "code",
      "source": [
        "import matplotlib.animation as animation"
      ],
      "metadata": {
        "id": "yDp6RJAHTgnR"
      },
      "execution_count": null,
      "outputs": []
    },
    {
      "cell_type": "code",
      "source": [
        "# Función de animación\n",
        "def animate(i):\n",
        "    line.set_data([0, np.sin(y[i])], [0, np.cos(y[i])])\n",
        "    return line,\n",
        "\n",
        "# Crear la figura y los ejes\n",
        "fig, ax = plt.subplots()\n",
        "ax.set_xlim(-1.5, 1.5)\n",
        "ax.set_ylim(-1.5, 1.5)\n",
        "\n",
        "# Inicializar la línea para la animación\n",
        "line, = ax.plot([], [], 'o-', lw=2)\n",
        "\n",
        "# Crear la animación\n",
        "ani = animation.FuncAnimation(fig, animate, frames=len(y), interval=50, blit=True)\n",
        "\n",
        "# Mostrar la animación\n",
        "plt.show()"
      ],
      "metadata": {
        "colab": {
          "base_uri": "https://localhost:8080/",
          "height": 435
        },
        "id": "-Iv1V9RwTVL_",
        "outputId": "d76490e7-1581-4f1f-bc94-6156cb27b761"
      },
      "execution_count": null,
      "outputs": [
        {
          "output_type": "display_data",
          "data": {
            "text/plain": [
              "<Figure size 640x480 with 1 Axes>"
            ],
            "image/png": "[encoded data removed]"
          },
          "metadata": {}
        }
      ]
    }
  ]
}